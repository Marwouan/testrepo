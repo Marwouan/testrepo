{
  "cells": [
    {
      "cell_type": "markdown",
      "metadata": {
        "id": "f0e846f8-ca82-4943-8190-f6a0bc8f84e8"
      },
      "source": [
        "<p style=\"text-align:center\">\n",
        "    <a href=\"https://skills.network\" target=\"_blank\">\n",
        "    <img src=\"https://cf-courses-data.s3.us.cloud-object-storage.appdomain.cloud/assets/logos/SN_web_lightmode.png\" width=\"200\" alt=\"Skills Network Logo\">\n",
        "    </a>\n",
        "</p>\n",
        "\n",
        "<h1 align=center><font size = 5>Assignment: SQL Notebook for Peer Assignment</font></h1>\n",
        "\n",
        "Estimated time needed: **60** minutes.\n",
        "\n",
        "## Introduction\n",
        "Using this Python notebook you will:\n",
        "\n",
        "1.  Understand the Spacex DataSet\n",
        "2.  Load the dataset  into the corresponding table in a Db2 database\n",
        "3.  Execute SQL queries to answer assignment questions\n"
      ]
    },
    {
      "cell_type": "markdown",
      "metadata": {
        "id": "1a6638a0-303f-4654-9f9b-3832b25fd249"
      },
      "source": [
        "## Overview of the DataSet\n",
        "\n",
        "SpaceX has gained worldwide attention for a series of historic milestones.\n",
        "\n",
        "It is the only private company ever to return a spacecraft from low-earth orbit, which it first accomplished in December 2010.\n",
        "SpaceX advertises Falcon 9 rocket launches on its website with a cost of 62 million dollars wheras other providers cost upward of 165 million dollars each, much of the savings is because Space X can reuse the first stage.\n",
        "\n",
        "\n",
        "Therefore if we can determine if the first stage will land, we can determine the cost of a launch.\n",
        "\n",
        "This information can be used if an alternate company wants to bid against SpaceX for a rocket launch.\n",
        "\n",
        "This dataset includes a record for each payload carried during a SpaceX mission into outer space.\n"
      ]
    },
    {
      "cell_type": "markdown",
      "metadata": {
        "id": "ef1824ac-747b-4b22-bac9-0a18ff70b56d"
      },
      "source": [
        "### Download the datasets\n",
        "\n",
        "This assignment requires you to load the spacex dataset.\n",
        "\n",
        "In many cases the dataset to be analyzed is available as a .CSV (comma separated values) file, perhaps on the internet. Click on the link below to download and save the dataset (.CSV file):\n",
        "\n",
        " <a href=\"https://cf-courses-data.s3.us.cloud-object-storage.appdomain.cloud/IBM-DS0321EN-SkillsNetwork/labs/module_2/data/Spacex.csv\" target=\"_blank\">Spacex DataSet</a>\n",
        "\n"
      ]
    },
    {
      "cell_type": "code",
      "metadata": {
        "colab": {
          "base_uri": "https://localhost:8080/",
          "height": 359
        },
        "id": "b47c6c6e-2157-496c-9fbf-bb0fa6c1cec2",
        "outputId": "20351bc9-3e1e-4bf7-9b6d-e7197907f9b6"
      },
      "outputs": [
        {
          "output_type": "stream",
          "name": "stdout",
          "text": [
            "Collecting sqlalchemy==2.0\n",
            "  Downloading SQLAlchemy-2.0.0-cp310-cp310-manylinux_2_17_x86_64.manylinux2014_x86_64.whl (2.7 MB)\n",
            "\u001b[2K     \u001b[90m━━━━━━━━━━━━━━━━━━━━━━━━━━━━━━━━━━━━━━━━\u001b[0m \u001b[32m2.7/2.7 MB\u001b[0m \u001b[31m8.0 MB/s\u001b[0m eta \u001b[36m0:00:00\u001b[0m\n",
            "\u001b[?25hRequirement already satisfied: typing-extensions>=4.2.0 in /usr/local/lib/python3.10/dist-packages (from sqlalchemy==2.0) (4.11.0)\n",
            "Requirement already satisfied: greenlet!=0.4.17 in /usr/local/lib/python3.10/dist-packages (from sqlalchemy==2.0) (3.0.3)\n",
            "Installing collected packages: sqlalchemy\n",
            "  Attempting uninstall: sqlalchemy\n",
            "    Found existing installation: SQLAlchemy 1.3.9\n",
            "    Uninstalling SQLAlchemy-1.3.9:\n",
            "      Successfully uninstalled SQLAlchemy-1.3.9\n",
            "\u001b[31mERROR: pip's dependency resolver does not currently take into account all the packages that are installed. This behaviour is the source of the following dependency conflicts.\n",
            "bigframes 1.6.0 requires pandas>=1.5.0, but you have pandas 1.1.5 which is incompatible.\u001b[0m\u001b[31m\n",
            "\u001b[0mSuccessfully installed sqlalchemy-2.0.0\n"
          ]
        },
        {
          "output_type": "display_data",
          "data": {
            "application/vnd.colab-display-data+json": {
              "pip_warning": {
                "packages": [
                  "sqlalchemy"
                ]
              },
              "id": "d03538720eb34942924423f05397051f"
            }
          },
          "metadata": {}
        }
      ],
      "source": [
        "!pip install sqlalchemy==2.0\n"
      ],
      "execution_count": null
    },
    {
      "cell_type": "markdown",
      "metadata": {
        "id": "6d9c4549-c9bc-469c-9c26-1b7925f5caba"
      },
      "source": [
        "### Connect to the database\n",
        "\n",
        "Let us first load the SQL extension and establish a connection with the database\n"
      ]
    },
    {
      "cell_type": "code",
      "metadata": {
        "id": "d507013e-e159-45c2-9179-4fe1051f8378"
      },
      "outputs": [],
      "source": [
        "%load_ext sql"
      ],
      "execution_count": 1
    },
    {
      "cell_type": "code",
      "metadata": {
        "id": "3af94467-b514-4572-87a0-4235d035bbd0"
      },
      "outputs": [],
      "source": [
        "import csv, sqlite3\n",
        "\n",
        "con = sqlite3.connect(\"my_data1.db\")\n",
        "cur = con.cursor()"
      ],
      "execution_count": 2
    },
    {
      "cell_type": "code",
      "metadata": {
        "colab": {
          "base_uri": "https://localhost:8080/"
        },
        "id": "d3e03549-1546-4232-a522-0188e7b37664",
        "outputId": "9064d97c-b445-4073-cb02-64f0be3d6b3b"
      },
      "outputs": [
        {
          "output_type": "stream",
          "name": "stdout",
          "text": [
            "\u001b[2K     \u001b[90m━━━━━━━━━━━━━━━━━━━━━━━━━━━━━━━━━━━━━━━━\u001b[0m \u001b[32m12.3/12.3 MB\u001b[0m \u001b[31m45.0 MB/s\u001b[0m eta \u001b[36m0:00:00\u001b[0m\n",
            "\u001b[?25h"
          ]
        }
      ],
      "source": [
        "!pip install -q pandas==2.0.3"
      ],
      "execution_count": 4
    },
    {
      "cell_type": "code",
      "metadata": {
        "id": "5f974486-44ea-499a-8cd8-4f069201dec5"
      },
      "outputs": [],
      "source": [
        "%sql sqlite:///my_data1.db"
      ],
      "execution_count": 5
    },
    {
      "cell_type": "code",
      "metadata": {
        "colab": {
          "base_uri": "https://localhost:8080/"
        },
        "id": "d5dfcb0b-5a40-41a7-8068-6e0d4ed8f6be",
        "outputId": "227d5a58-2509-48a9-e42e-5522760ecdea"
      },
      "outputs": [
        {
          "output_type": "stream",
          "name": "stderr",
          "text": [
            "/usr/local/lib/python3.10/dist-packages/pandas/core/generic.py:2605: UserWarning: The spaces in these column names will not be changed. In pandas versions < 0.14, spaces were converted to underscores.\n",
            "  (default if no compressor specified: 'blosc:blosclz'):\n"
          ]
        }
      ],
      "source": [
        "import pandas as pd\n",
        "df = pd.read_csv(\"https://cf-courses-data.s3.us.cloud-object-storage.appdomain.cloud/IBM-DS0321EN-SkillsNetwork/labs/module_2/data/Spacex.csv\")\n",
        "df.to_sql(\"SPACEXTBL\", con, if_exists='replace', index=False,method=\"multi\")"
      ],
      "execution_count": 6
    },
    {
      "cell_type": "markdown",
      "metadata": {
        "id": "75980fea-7ccd-4d76-b101-c6a69a53555e"
      },
      "source": [
        "**Note:This below code is added to remove blank rows from table**\n"
      ]
    },
    {
      "cell_type": "code",
      "metadata": {
        "colab": {
          "base_uri": "https://localhost:8080/"
        },
        "id": "b429bd54-7f0e-411d-94b8-9edc3264f9cd",
        "outputId": "41a81e9a-d398-4329-9f95-db24e3583724"
      },
      "outputs": [
        {
          "output_type": "stream",
          "name": "stdout",
          "text": [
            " * sqlite:///my_data1.db\n",
            "Done.\n"
          ]
        },
        {
          "output_type": "execute_result",
          "data": {
            "text/plain": [
              "[]"
            ]
          },
          "metadata": {},
          "execution_count": 7
        }
      ],
      "source": [
        "%sql create table SPACEXTABLE as select * from SPACEXTBL where Date is not null"
      ],
      "execution_count": 7
    },
    {
      "cell_type": "markdown",
      "metadata": {
        "id": "da5a4c33-4621-4ff6-aa0e-2bf94feede47"
      },
      "source": [
        "## Tasks\n",
        "\n",
        "Now write and execute SQL queries to solve the assignment tasks.\n",
        "\n",
        "**Note: If the column names are in mixed case enclose it in double quotes\n",
        "   For Example \"Landing_Outcome\"** .\n",
        "\n",
        "   \n",
        "\n",
        "### Task 1\n",
        "\n",
        "\n",
        "\n",
        "\n",
        "##### Display the names of the unique launch sites  in the space mission\n"
      ]
    },
    {
      "cell_type": "code",
      "metadata": {
        "id": "ee518c32-0bf1-49ae-86ff-0357a4a7ee4e",
        "colab": {
          "base_uri": "https://localhost:8080/",
          "height": 161
        },
        "outputId": "ffb90a82-956e-4383-8643-eddf7882b1d9"
      },
      "outputs": [
        {
          "output_type": "stream",
          "name": "stdout",
          "text": [
            " * sqlite:///my_data1.db\n",
            "Done.\n"
          ]
        },
        {
          "output_type": "execute_result",
          "data": {
            "text/plain": [
              "[('CCAFS LC-40',), ('VAFB SLC-4E',), ('KSC LC-39A',), ('CCAFS SLC-40',)]"
            ],
            "text/html": [
              "<table>\n",
              "    <thead>\n",
              "        <tr>\n",
              "            <th>Launch_Site</th>\n",
              "        </tr>\n",
              "    </thead>\n",
              "    <tbody>\n",
              "        <tr>\n",
              "            <td>CCAFS LC-40</td>\n",
              "        </tr>\n",
              "        <tr>\n",
              "            <td>VAFB SLC-4E</td>\n",
              "        </tr>\n",
              "        <tr>\n",
              "            <td>KSC LC-39A</td>\n",
              "        </tr>\n",
              "        <tr>\n",
              "            <td>CCAFS SLC-40</td>\n",
              "        </tr>\n",
              "    </tbody>\n",
              "</table>"
            ]
          },
          "metadata": {},
          "execution_count": 9
        }
      ],
      "source": [
        "%sql select distinct Launch_Site from SPACEXTABLE"
      ],
      "execution_count": 9
    },
    {
      "cell_type": "markdown",
      "metadata": {
        "id": "a451d4ea-5be6-4cec-b073-8191f2ce021c"
      },
      "source": [
        "\n",
        "### Task 2\n",
        "\n",
        "\n",
        "#####  Display 5 records where launch sites begin with the string 'KSC'\n"
      ]
    },
    {
      "cell_type": "code",
      "metadata": {
        "id": "f79c0c64-74d4-4315-8ffa-dc65f2ff49c4",
        "colab": {
          "base_uri": "https://localhost:8080/",
          "height": 182
        },
        "outputId": "4776296d-e314-4576-c0b7-7deed1840281"
      },
      "outputs": [
        {
          "output_type": "stream",
          "name": "stdout",
          "text": [
            " * sqlite:///my_data1.db\n",
            "Done.\n"
          ]
        },
        {
          "output_type": "execute_result",
          "data": {
            "text/plain": [
              "[('2017-02-19', '14:39:00', 'F9 FT B1031.1', 'KSC LC-39A', 'SpaceX CRS-10', 2490, 'LEO (ISS)', 'NASA (CRS)', 'Success', 'Success (ground pad)'),\n",
              " ('2017-03-16', '6:00:00', 'F9 FT B1030', 'KSC LC-39A', 'EchoStar 23', 5600, 'GTO', 'EchoStar', 'Success', 'No attempt'),\n",
              " ('2017-03-30', '22:27:00', 'F9 FT  B1021.2', 'KSC LC-39A', 'SES-10', 5300, 'GTO', 'SES', 'Success', 'Success (drone ship)'),\n",
              " ('2017-05-01', '11:15:00', 'F9 FT B1032.1', 'KSC LC-39A', 'NROL-76', 5300, 'LEO', 'NRO', 'Success', 'Success (ground pad)'),\n",
              " ('2017-05-15', '23:21:00', 'F9 FT B1034', 'KSC LC-39A', 'Inmarsat-5 F4', 6070, 'GTO', 'Inmarsat', 'Success', 'No attempt')]"
            ],
            "text/html": [
              "<table>\n",
              "    <thead>\n",
              "        <tr>\n",
              "            <th>Date</th>\n",
              "            <th>Time (UTC)</th>\n",
              "            <th>Booster_Version</th>\n",
              "            <th>Launch_Site</th>\n",
              "            <th>Payload</th>\n",
              "            <th>PAYLOAD_MASS__KG_</th>\n",
              "            <th>Orbit</th>\n",
              "            <th>Customer</th>\n",
              "            <th>Mission_Outcome</th>\n",
              "            <th>Landing_Outcome</th>\n",
              "        </tr>\n",
              "    </thead>\n",
              "    <tbody>\n",
              "        <tr>\n",
              "            <td>2017-02-19</td>\n",
              "            <td>14:39:00</td>\n",
              "            <td>F9 FT B1031.1</td>\n",
              "            <td>KSC LC-39A</td>\n",
              "            <td>SpaceX CRS-10</td>\n",
              "            <td>2490</td>\n",
              "            <td>LEO (ISS)</td>\n",
              "            <td>NASA (CRS)</td>\n",
              "            <td>Success</td>\n",
              "            <td>Success (ground pad)</td>\n",
              "        </tr>\n",
              "        <tr>\n",
              "            <td>2017-03-16</td>\n",
              "            <td>6:00:00</td>\n",
              "            <td>F9 FT B1030</td>\n",
              "            <td>KSC LC-39A</td>\n",
              "            <td>EchoStar 23</td>\n",
              "            <td>5600</td>\n",
              "            <td>GTO</td>\n",
              "            <td>EchoStar</td>\n",
              "            <td>Success</td>\n",
              "            <td>No attempt</td>\n",
              "        </tr>\n",
              "        <tr>\n",
              "            <td>2017-03-30</td>\n",
              "            <td>22:27:00</td>\n",
              "            <td>F9 FT  B1021.2</td>\n",
              "            <td>KSC LC-39A</td>\n",
              "            <td>SES-10</td>\n",
              "            <td>5300</td>\n",
              "            <td>GTO</td>\n",
              "            <td>SES</td>\n",
              "            <td>Success</td>\n",
              "            <td>Success (drone ship)</td>\n",
              "        </tr>\n",
              "        <tr>\n",
              "            <td>2017-05-01</td>\n",
              "            <td>11:15:00</td>\n",
              "            <td>F9 FT B1032.1</td>\n",
              "            <td>KSC LC-39A</td>\n",
              "            <td>NROL-76</td>\n",
              "            <td>5300</td>\n",
              "            <td>LEO</td>\n",
              "            <td>NRO</td>\n",
              "            <td>Success</td>\n",
              "            <td>Success (ground pad)</td>\n",
              "        </tr>\n",
              "        <tr>\n",
              "            <td>2017-05-15</td>\n",
              "            <td>23:21:00</td>\n",
              "            <td>F9 FT B1034</td>\n",
              "            <td>KSC LC-39A</td>\n",
              "            <td>Inmarsat-5 F4</td>\n",
              "            <td>6070</td>\n",
              "            <td>GTO</td>\n",
              "            <td>Inmarsat</td>\n",
              "            <td>Success</td>\n",
              "            <td>No attempt</td>\n",
              "        </tr>\n",
              "    </tbody>\n",
              "</table>"
            ]
          },
          "metadata": {},
          "execution_count": 47
        }
      ],
      "source": [
        "%sql select * from SPACEXTABLE where Launch_Site like 'KSC%' limit 5"
      ],
      "execution_count": 47
    },
    {
      "cell_type": "markdown",
      "metadata": {
        "id": "a3610cbd-6472-42d1-981e-6c7ef8682906"
      },
      "source": [
        "### Task 3\n",
        "\n",
        "\n",
        "\n",
        "\n",
        "##### Display the total payload mass carried by boosters launched by NASA (CRS)\n"
      ]
    },
    {
      "cell_type": "code",
      "metadata": {
        "id": "a6503743-8d6b-4f02-a41b-bc6a82c4b6fb",
        "colab": {
          "base_uri": "https://localhost:8080/",
          "height": 96
        },
        "outputId": "d2182512-45eb-4ab6-eaa3-87e44108143f"
      },
      "outputs": [
        {
          "output_type": "stream",
          "name": "stdout",
          "text": [
            " * sqlite:///my_data1.db\n",
            "Done.\n"
          ]
        },
        {
          "output_type": "execute_result",
          "data": {
            "text/plain": [
              "[(45596,)]"
            ],
            "text/html": [
              "<table>\n",
              "    <thead>\n",
              "        <tr>\n",
              "            <th>total_payload_mass</th>\n",
              "        </tr>\n",
              "    </thead>\n",
              "    <tbody>\n",
              "        <tr>\n",
              "            <td>45596</td>\n",
              "        </tr>\n",
              "    </tbody>\n",
              "</table>"
            ]
          },
          "metadata": {},
          "execution_count": 34
        }
      ],
      "source": [
        "%sql select sum(PAYLOAD_MASS__KG_) as total_payload_mass from SPACEXTABLE where Customer='NASA (CRS)'"
      ],
      "execution_count": 34
    },
    {
      "cell_type": "markdown",
      "metadata": {
        "id": "d5183494-225c-4777-9abf-7f9d54133299"
      },
      "source": [
        "### Task 4\n",
        "\n",
        "\n",
        "\n",
        "\n",
        "##### Display average payload mass carried by booster version F9 v1.1\n"
      ]
    },
    {
      "cell_type": "code",
      "metadata": {
        "id": "65e32500-58a0-4336-98ea-44439d1fbf67",
        "colab": {
          "base_uri": "https://localhost:8080/",
          "height": 96
        },
        "outputId": "4db64648-dd93-4d0f-f019-78f0f238e19d"
      },
      "outputs": [
        {
          "output_type": "stream",
          "name": "stdout",
          "text": [
            " * sqlite:///my_data1.db\n",
            "Done.\n"
          ]
        },
        {
          "output_type": "execute_result",
          "data": {
            "text/plain": [
              "[(2928.4,)]"
            ],
            "text/html": [
              "<table>\n",
              "    <thead>\n",
              "        <tr>\n",
              "            <th>average_payload_mass</th>\n",
              "        </tr>\n",
              "    </thead>\n",
              "    <tbody>\n",
              "        <tr>\n",
              "            <td>2928.4</td>\n",
              "        </tr>\n",
              "    </tbody>\n",
              "</table>"
            ]
          },
          "metadata": {},
          "execution_count": 37
        }
      ],
      "source": [
        "%sql select avg(PAYLOAD_MASS__KG_) as average_payload_mass from SPACEXTABLE where Booster_Version='F9 v1.1'"
      ],
      "execution_count": 37
    },
    {
      "cell_type": "markdown",
      "metadata": {
        "id": "c2a6f22d-e7bb-4c3b-b675-0872897250c6"
      },
      "source": [
        "### Task 5\n",
        "\n",
        "##### List the date where the succesful landing outcome in drone ship was acheived.\n",
        "\n",
        "\n",
        "_Hint:Use min function_\n"
      ]
    },
    {
      "cell_type": "code",
      "metadata": {
        "id": "336e45eb-fce2-4d69-98d0-60322eb97172",
        "colab": {
          "base_uri": "https://localhost:8080/",
          "height": 96
        },
        "outputId": "839f106a-3aa5-40e3-fc57-73fc08cf35a3"
      },
      "outputs": [
        {
          "output_type": "stream",
          "name": "stdout",
          "text": [
            " * sqlite:///my_data1.db\n",
            "Done.\n"
          ]
        },
        {
          "output_type": "execute_result",
          "data": {
            "text/plain": [
              "[('2016-04-08',)]"
            ],
            "text/html": [
              "<table>\n",
              "    <thead>\n",
              "        <tr>\n",
              "            <th>Date</th>\n",
              "        </tr>\n",
              "    </thead>\n",
              "    <tbody>\n",
              "        <tr>\n",
              "            <td>2016-04-08</td>\n",
              "        </tr>\n",
              "    </tbody>\n",
              "</table>"
            ]
          },
          "metadata": {},
          "execution_count": 38
        }
      ],
      "source": [
        "%sql select min(Date) as Date from SPACEXTABLE where Landing_Outcome='Success (drone ship)'"
      ],
      "execution_count": 38
    },
    {
      "cell_type": "markdown",
      "metadata": {
        "id": "69cc6763-7391-43a4-8736-2b499ba633a8"
      },
      "source": [
        "### Task 6\n",
        "\n",
        "##### List the names of the boosters which have success in ground pad  and have payload mass greater than 4000 but less than 6000\n"
      ]
    },
    {
      "cell_type": "code",
      "metadata": {
        "id": "60f53e58-f801-4cc2-bd57-f47ad1bbe073",
        "colab": {
          "base_uri": "https://localhost:8080/",
          "height": 139
        },
        "outputId": "70a3f421-d0bb-46af-99ec-3619b74cd5c5"
      },
      "outputs": [
        {
          "output_type": "stream",
          "name": "stdout",
          "text": [
            " * sqlite:///my_data1.db\n",
            "Done.\n"
          ]
        },
        {
          "output_type": "execute_result",
          "data": {
            "text/plain": [
              "[('F9 FT B1032.1',), ('F9 B4 B1040.1',), ('F9 B4 B1043.1',)]"
            ],
            "text/html": [
              "<table>\n",
              "    <thead>\n",
              "        <tr>\n",
              "            <th>Booster_Version</th>\n",
              "        </tr>\n",
              "    </thead>\n",
              "    <tbody>\n",
              "        <tr>\n",
              "            <td>F9 FT B1032.1</td>\n",
              "        </tr>\n",
              "        <tr>\n",
              "            <td>F9 B4 B1040.1</td>\n",
              "        </tr>\n",
              "        <tr>\n",
              "            <td>F9 B4 B1043.1</td>\n",
              "        </tr>\n",
              "    </tbody>\n",
              "</table>"
            ]
          },
          "metadata": {},
          "execution_count": 41
        }
      ],
      "source": [
        "%sql select Booster_Version from SPACEXTABLE where Landing_Outcome='Success (ground pad)' and PAYLOAD_MASS__KG_ between 4000 and 6000"
      ],
      "execution_count": 41
    },
    {
      "cell_type": "markdown",
      "metadata": {
        "id": "787b069e-ef88-4a9f-90dd-87db3b3bdbcd"
      },
      "source": [
        "### Task 7\n",
        "\n",
        "\n",
        "\n",
        "\n",
        "##### List the total number of successful and failure mission outcomes\n"
      ]
    },
    {
      "cell_type": "code",
      "metadata": {
        "id": "b4b5b08d-584c-4747-80a8-a26ce3e59a22",
        "colab": {
          "base_uri": "https://localhost:8080/",
          "height": 96
        },
        "outputId": "03a992ef-3231-4e44-dff2-2902ae0f4f28"
      },
      "outputs": [
        {
          "output_type": "stream",
          "name": "stdout",
          "text": [
            " * sqlite:///my_data1.db\n",
            "Done.\n"
          ]
        },
        {
          "output_type": "execute_result",
          "data": {
            "text/plain": [
              "[(100,)]"
            ],
            "text/html": [
              "<table>\n",
              "    <thead>\n",
              "        <tr>\n",
              "            <th>successful_mission_outcomes</th>\n",
              "        </tr>\n",
              "    </thead>\n",
              "    <tbody>\n",
              "        <tr>\n",
              "            <td>100</td>\n",
              "        </tr>\n",
              "    </tbody>\n",
              "</table>"
            ]
          },
          "metadata": {},
          "execution_count": 50
        }
      ],
      "source": [
        "%sql select count(*) as successful_mission_outcomes from SPACEXTABLE where Mission_Outcome like 'Success%'"
      ],
      "execution_count": 50
    },
    {
      "cell_type": "code",
      "source": [
        "%sql select count(*) as failure_mission_outcomes from SPACEXTABLE where Mission_Outcome not like 'Success%'"
      ],
      "metadata": {
        "colab": {
          "base_uri": "https://localhost:8080/",
          "height": 96
        },
        "id": "gpvKAGnTKnN5",
        "outputId": "c63ec279-c91e-4e0d-e8be-87a66fc8d85b"
      },
      "execution_count": 52,
      "outputs": [
        {
          "output_type": "stream",
          "name": "stdout",
          "text": [
            " * sqlite:///my_data1.db\n",
            "Done.\n"
          ]
        },
        {
          "output_type": "execute_result",
          "data": {
            "text/plain": [
              "[(1,)]"
            ],
            "text/html": [
              "<table>\n",
              "    <thead>\n",
              "        <tr>\n",
              "            <th>failure_mission_outcomes</th>\n",
              "        </tr>\n",
              "    </thead>\n",
              "    <tbody>\n",
              "        <tr>\n",
              "            <td>1</td>\n",
              "        </tr>\n",
              "    </tbody>\n",
              "</table>"
            ]
          },
          "metadata": {},
          "execution_count": 52
        }
      ]
    },
    {
      "cell_type": "markdown",
      "metadata": {
        "id": "0e037388-6e86-4693-a444-bf2bfa93a8be"
      },
      "source": [
        "### Task 8\n",
        "\n",
        "\n",
        "\n",
        "##### List the   names of the booster_versions which have carried the maximum payload mass. Use a subquery\n"
      ]
    },
    {
      "cell_type": "code",
      "metadata": {
        "id": "d0a7663c-fb66-49a4-9986-969b5f3e838f",
        "colab": {
          "base_uri": "https://localhost:8080/",
          "height": 1000
        },
        "outputId": "b3ad8d3a-6201-4557-8679-7b60710cf20b"
      },
      "outputs": [
        {
          "output_type": "stream",
          "name": "stdout",
          "text": [
            " * sqlite:///my_data1.db\n",
            "Done.\n"
          ]
        },
        {
          "output_type": "execute_result",
          "data": {
            "text/plain": [
              "[('F9 v1.0  B0003',),\n",
              " ('F9 v1.0  B0004',),\n",
              " ('F9 v1.0  B0005',),\n",
              " ('F9 v1.0  B0006',),\n",
              " ('F9 v1.0  B0007',),\n",
              " ('F9 v1.1  B1003',),\n",
              " ('F9 v1.1',),\n",
              " ('F9 v1.1 B1011',),\n",
              " ('F9 v1.1 B1010',),\n",
              " ('F9 v1.1 B1012',),\n",
              " ('F9 v1.1 B1013',),\n",
              " ('F9 v1.1 B1014',),\n",
              " ('F9 v1.1 B1015',),\n",
              " ('F9 v1.1 B1016',),\n",
              " ('F9 v1.1 B1018',),\n",
              " ('F9 FT B1019',),\n",
              " ('F9 v1.1 B1017',),\n",
              " ('F9 FT B1020',),\n",
              " ('F9 FT B1021.1',),\n",
              " ('F9 FT B1022',),\n",
              " ('F9 FT B1023.1',),\n",
              " ('F9 FT B1024',),\n",
              " ('F9 FT B1025.1',),\n",
              " ('F9 FT B1026',),\n",
              " ('F9 FT B1029.1',),\n",
              " ('F9 FT B1031.1',),\n",
              " ('F9 FT B1030',),\n",
              " ('F9 FT  B1021.2',),\n",
              " ('F9 FT B1032.1',),\n",
              " ('F9 FT B1034',),\n",
              " ('F9 FT B1035.1',),\n",
              " ('F9 FT  B1029.2',),\n",
              " ('F9 FT B1036.1',),\n",
              " ('F9 FT B1037',),\n",
              " ('F9 B4 B1039.1',),\n",
              " ('F9 FT B1038.1',),\n",
              " ('F9 B4 B1040.1',),\n",
              " ('F9 B4 B1041.1',),\n",
              " ('F9 FT  B1031.2',),\n",
              " ('F9 B4 B1042.1',),\n",
              " ('F9 FT  B1035.2',),\n",
              " ('F9 FT  B1036.2',),\n",
              " ('F9 B4 B1043.1',),\n",
              " ('F9 FT  B1032.2',),\n",
              " ('F9 FT  B1038.2',),\n",
              " ('F9 B4 B1044',),\n",
              " ('F9 B4  B1041.2',),\n",
              " ('F9 B4  B1039.2',),\n",
              " ('F9 B4 B1045.1',),\n",
              " ('F9 B5  B1046.1',),\n",
              " ('F9 B4  B1043.2',),\n",
              " ('F9 B4  B1040.2',),\n",
              " ('F9 B4 B1045.2',),\n",
              " ('F9 B5B1047.1',),\n",
              " ('F9 B5B1048.1',),\n",
              " ('F9 B5 B1046.2',),\n",
              " ('F9 B5B1049.1',),\n",
              " ('F9 B5 B1048.2',),\n",
              " ('F9 B5 B1047.2',),\n",
              " ('F9 B5 B1046.3',),\n",
              " ('F9 B5B1050',),\n",
              " ('F9 B5B1054',),\n",
              " ('F9 B5 B1049.2',),\n",
              " ('F9 B5 B1048.3',),\n",
              " ('F9 B5B1051.1',),\n",
              " ('F9 B5B1056.1 ',),\n",
              " ('F9 B5 B1049.3',),\n",
              " ('F9 B5 B1051.2 ',),\n",
              " ('F9 B5 B1056.2 ',),\n",
              " ('F9 B5 B1047.3 ',),\n",
              " ('F9 B5 B1048.4',),\n",
              " ('F9 B5B1059.1',),\n",
              " ('F9 B5 B1056.3 ',),\n",
              " ('F9 B5 B1049.4',),\n",
              " ('F9 B5 B1046.4',),\n",
              " ('F9 B5 B1051.3',),\n",
              " ('F9 B5 B1056.4',),\n",
              " ('F9 B5 B1059.2',),\n",
              " ('F9 B5 B1048.5',),\n",
              " ('F9 B5 B1051.4',),\n",
              " ('F9 B5B1058.1 ',),\n",
              " ('F9 B5 B1049.5',),\n",
              " ('F9 B5 B1059.3',),\n",
              " ('F9 B5B1060.1',),\n",
              " ('F9 B5 B1058.2 ',),\n",
              " ('F9 B5 B1051.5',),\n",
              " ('F9 B5 B1049.6',),\n",
              " ('F9 B5 B1059.4',),\n",
              " ('F9 B5 B1060.2 ',),\n",
              " ('F9 B5 B1058.3 ',),\n",
              " ('F9 B5 B1051.6',),\n",
              " ('F9 B5 B1060.3',),\n",
              " ('F9 B5B1062.1',),\n",
              " ('F9 B5B1061.1 ',),\n",
              " ('F9 B5B1063.1',),\n",
              " ('F9 B5 B1049.7 ',),\n",
              " ('F9 B5 B1058.4 ',)]"
            ],
            "text/html": [
              "<table>\n",
              "    <thead>\n",
              "        <tr>\n",
              "            <th>Booster_Version</th>\n",
              "        </tr>\n",
              "    </thead>\n",
              "    <tbody>\n",
              "        <tr>\n",
              "            <td>F9 v1.0  B0003</td>\n",
              "        </tr>\n",
              "        <tr>\n",
              "            <td>F9 v1.0  B0004</td>\n",
              "        </tr>\n",
              "        <tr>\n",
              "            <td>F9 v1.0  B0005</td>\n",
              "        </tr>\n",
              "        <tr>\n",
              "            <td>F9 v1.0  B0006</td>\n",
              "        </tr>\n",
              "        <tr>\n",
              "            <td>F9 v1.0  B0007</td>\n",
              "        </tr>\n",
              "        <tr>\n",
              "            <td>F9 v1.1  B1003</td>\n",
              "        </tr>\n",
              "        <tr>\n",
              "            <td>F9 v1.1</td>\n",
              "        </tr>\n",
              "        <tr>\n",
              "            <td>F9 v1.1 B1011</td>\n",
              "        </tr>\n",
              "        <tr>\n",
              "            <td>F9 v1.1 B1010</td>\n",
              "        </tr>\n",
              "        <tr>\n",
              "            <td>F9 v1.1 B1012</td>\n",
              "        </tr>\n",
              "        <tr>\n",
              "            <td>F9 v1.1 B1013</td>\n",
              "        </tr>\n",
              "        <tr>\n",
              "            <td>F9 v1.1 B1014</td>\n",
              "        </tr>\n",
              "        <tr>\n",
              "            <td>F9 v1.1 B1015</td>\n",
              "        </tr>\n",
              "        <tr>\n",
              "            <td>F9 v1.1 B1016</td>\n",
              "        </tr>\n",
              "        <tr>\n",
              "            <td>F9 v1.1 B1018</td>\n",
              "        </tr>\n",
              "        <tr>\n",
              "            <td>F9 FT B1019</td>\n",
              "        </tr>\n",
              "        <tr>\n",
              "            <td>F9 v1.1 B1017</td>\n",
              "        </tr>\n",
              "        <tr>\n",
              "            <td>F9 FT B1020</td>\n",
              "        </tr>\n",
              "        <tr>\n",
              "            <td>F9 FT B1021.1</td>\n",
              "        </tr>\n",
              "        <tr>\n",
              "            <td>F9 FT B1022</td>\n",
              "        </tr>\n",
              "        <tr>\n",
              "            <td>F9 FT B1023.1</td>\n",
              "        </tr>\n",
              "        <tr>\n",
              "            <td>F9 FT B1024</td>\n",
              "        </tr>\n",
              "        <tr>\n",
              "            <td>F9 FT B1025.1</td>\n",
              "        </tr>\n",
              "        <tr>\n",
              "            <td>F9 FT B1026</td>\n",
              "        </tr>\n",
              "        <tr>\n",
              "            <td>F9 FT B1029.1</td>\n",
              "        </tr>\n",
              "        <tr>\n",
              "            <td>F9 FT B1031.1</td>\n",
              "        </tr>\n",
              "        <tr>\n",
              "            <td>F9 FT B1030</td>\n",
              "        </tr>\n",
              "        <tr>\n",
              "            <td>F9 FT  B1021.2</td>\n",
              "        </tr>\n",
              "        <tr>\n",
              "            <td>F9 FT B1032.1</td>\n",
              "        </tr>\n",
              "        <tr>\n",
              "            <td>F9 FT B1034</td>\n",
              "        </tr>\n",
              "        <tr>\n",
              "            <td>F9 FT B1035.1</td>\n",
              "        </tr>\n",
              "        <tr>\n",
              "            <td>F9 FT  B1029.2</td>\n",
              "        </tr>\n",
              "        <tr>\n",
              "            <td>F9 FT B1036.1</td>\n",
              "        </tr>\n",
              "        <tr>\n",
              "            <td>F9 FT B1037</td>\n",
              "        </tr>\n",
              "        <tr>\n",
              "            <td>F9 B4 B1039.1</td>\n",
              "        </tr>\n",
              "        <tr>\n",
              "            <td>F9 FT B1038.1</td>\n",
              "        </tr>\n",
              "        <tr>\n",
              "            <td>F9 B4 B1040.1</td>\n",
              "        </tr>\n",
              "        <tr>\n",
              "            <td>F9 B4 B1041.1</td>\n",
              "        </tr>\n",
              "        <tr>\n",
              "            <td>F9 FT  B1031.2</td>\n",
              "        </tr>\n",
              "        <tr>\n",
              "            <td>F9 B4 B1042.1</td>\n",
              "        </tr>\n",
              "        <tr>\n",
              "            <td>F9 FT  B1035.2</td>\n",
              "        </tr>\n",
              "        <tr>\n",
              "            <td>F9 FT  B1036.2</td>\n",
              "        </tr>\n",
              "        <tr>\n",
              "            <td>F9 B4 B1043.1</td>\n",
              "        </tr>\n",
              "        <tr>\n",
              "            <td>F9 FT  B1032.2</td>\n",
              "        </tr>\n",
              "        <tr>\n",
              "            <td>F9 FT  B1038.2</td>\n",
              "        </tr>\n",
              "        <tr>\n",
              "            <td>F9 B4 B1044</td>\n",
              "        </tr>\n",
              "        <tr>\n",
              "            <td>F9 B4  B1041.2</td>\n",
              "        </tr>\n",
              "        <tr>\n",
              "            <td>F9 B4  B1039.2</td>\n",
              "        </tr>\n",
              "        <tr>\n",
              "            <td>F9 B4 B1045.1</td>\n",
              "        </tr>\n",
              "        <tr>\n",
              "            <td>F9 B5  B1046.1</td>\n",
              "        </tr>\n",
              "        <tr>\n",
              "            <td>F9 B4  B1043.2</td>\n",
              "        </tr>\n",
              "        <tr>\n",
              "            <td>F9 B4  B1040.2</td>\n",
              "        </tr>\n",
              "        <tr>\n",
              "            <td>F9 B4 B1045.2</td>\n",
              "        </tr>\n",
              "        <tr>\n",
              "            <td>F9 B5B1047.1</td>\n",
              "        </tr>\n",
              "        <tr>\n",
              "            <td>F9 B5B1048.1</td>\n",
              "        </tr>\n",
              "        <tr>\n",
              "            <td>F9 B5 B1046.2</td>\n",
              "        </tr>\n",
              "        <tr>\n",
              "            <td>F9 B5B1049.1</td>\n",
              "        </tr>\n",
              "        <tr>\n",
              "            <td>F9 B5 B1048.2</td>\n",
              "        </tr>\n",
              "        <tr>\n",
              "            <td>F9 B5 B1047.2</td>\n",
              "        </tr>\n",
              "        <tr>\n",
              "            <td>F9 B5 B1046.3</td>\n",
              "        </tr>\n",
              "        <tr>\n",
              "            <td>F9 B5B1050</td>\n",
              "        </tr>\n",
              "        <tr>\n",
              "            <td>F9 B5B1054</td>\n",
              "        </tr>\n",
              "        <tr>\n",
              "            <td>F9 B5 B1049.2</td>\n",
              "        </tr>\n",
              "        <tr>\n",
              "            <td>F9 B5 B1048.3</td>\n",
              "        </tr>\n",
              "        <tr>\n",
              "            <td>F9 B5B1051.1</td>\n",
              "        </tr>\n",
              "        <tr>\n",
              "            <td>F9 B5B1056.1 </td>\n",
              "        </tr>\n",
              "        <tr>\n",
              "            <td>F9 B5 B1049.3</td>\n",
              "        </tr>\n",
              "        <tr>\n",
              "            <td>F9 B5 B1051.2 </td>\n",
              "        </tr>\n",
              "        <tr>\n",
              "            <td>F9 B5 B1056.2 </td>\n",
              "        </tr>\n",
              "        <tr>\n",
              "            <td>F9 B5 B1047.3 </td>\n",
              "        </tr>\n",
              "        <tr>\n",
              "            <td>F9 B5 B1048.4</td>\n",
              "        </tr>\n",
              "        <tr>\n",
              "            <td>F9 B5B1059.1</td>\n",
              "        </tr>\n",
              "        <tr>\n",
              "            <td>F9 B5 B1056.3 </td>\n",
              "        </tr>\n",
              "        <tr>\n",
              "            <td>F9 B5 B1049.4</td>\n",
              "        </tr>\n",
              "        <tr>\n",
              "            <td>F9 B5 B1046.4</td>\n",
              "        </tr>\n",
              "        <tr>\n",
              "            <td>F9 B5 B1051.3</td>\n",
              "        </tr>\n",
              "        <tr>\n",
              "            <td>F9 B5 B1056.4</td>\n",
              "        </tr>\n",
              "        <tr>\n",
              "            <td>F9 B5 B1059.2</td>\n",
              "        </tr>\n",
              "        <tr>\n",
              "            <td>F9 B5 B1048.5</td>\n",
              "        </tr>\n",
              "        <tr>\n",
              "            <td>F9 B5 B1051.4</td>\n",
              "        </tr>\n",
              "        <tr>\n",
              "            <td>F9 B5B1058.1 </td>\n",
              "        </tr>\n",
              "        <tr>\n",
              "            <td>F9 B5 B1049.5</td>\n",
              "        </tr>\n",
              "        <tr>\n",
              "            <td>F9 B5 B1059.3</td>\n",
              "        </tr>\n",
              "        <tr>\n",
              "            <td>F9 B5B1060.1</td>\n",
              "        </tr>\n",
              "        <tr>\n",
              "            <td>F9 B5 B1058.2 </td>\n",
              "        </tr>\n",
              "        <tr>\n",
              "            <td>F9 B5 B1051.5</td>\n",
              "        </tr>\n",
              "        <tr>\n",
              "            <td>F9 B5 B1049.6</td>\n",
              "        </tr>\n",
              "        <tr>\n",
              "            <td>F9 B5 B1059.4</td>\n",
              "        </tr>\n",
              "        <tr>\n",
              "            <td>F9 B5 B1060.2 </td>\n",
              "        </tr>\n",
              "        <tr>\n",
              "            <td>F9 B5 B1058.3 </td>\n",
              "        </tr>\n",
              "        <tr>\n",
              "            <td>F9 B5 B1051.6</td>\n",
              "        </tr>\n",
              "        <tr>\n",
              "            <td>F9 B5 B1060.3</td>\n",
              "        </tr>\n",
              "        <tr>\n",
              "            <td>F9 B5B1062.1</td>\n",
              "        </tr>\n",
              "        <tr>\n",
              "            <td>F9 B5B1061.1 </td>\n",
              "        </tr>\n",
              "        <tr>\n",
              "            <td>F9 B5B1063.1</td>\n",
              "        </tr>\n",
              "        <tr>\n",
              "            <td>F9 B5 B1049.7 </td>\n",
              "        </tr>\n",
              "        <tr>\n",
              "            <td>F9 B5 B1058.4 </td>\n",
              "        </tr>\n",
              "    </tbody>\n",
              "</table>"
            ]
          },
          "metadata": {},
          "execution_count": 59
        }
      ],
      "source": [
        "%sql select distinct Booster_Version from SPACEXTABLE where (select max(PAYLOAD_MASS__KG_) from SPACEXTABLE)"
      ],
      "execution_count": 59
    },
    {
      "cell_type": "markdown",
      "metadata": {
        "id": "0fb7caa0-478f-4983-986a-37b33531bf4e"
      },
      "source": [
        "### Task 9\n",
        "\n",
        "\n",
        "##### List the records which will display the month names, succesful landing_outcomes in ground pad ,booster versions, launch_site for the months in year 2017\n",
        "**Note: SQLLite does not support monthnames. So you need to use substr(Date,6,2) for month, substr(Date,9,2) for date, substr(Date,0,5),='2017' for year.**\n"
      ]
    },
    {
      "cell_type": "code",
      "metadata": {
        "id": "934b1449-8831-48ea-a1b0-39cba1bc1899"
      },
      "outputs": [],
      "source": [
        "%sql select * from SPACEXTABLE where"
      ],
      "execution_count": null
    },
    {
      "cell_type": "markdown",
      "metadata": {
        "id": "91ba1fa6-e90d-4d3b-bd57-7c0c3b03f5a2"
      },
      "source": [
        "### Task 10\n",
        "\n",
        "\n",
        "\n",
        "\n",
        "##### Rank the count of landing outcomes (such as Failure (drone ship) or Success (ground pad)) between the date 2010-06-04 and 2017-03-20, in descending order\n"
      ]
    },
    {
      "cell_type": "code",
      "metadata": {
        "id": "b21f8c1a-dc05-4180-8597-7e692d0937ee",
        "colab": {
          "base_uri": "https://localhost:8080/",
          "height": 374
        },
        "outputId": "7d2ed036-67f0-40d9-c4b5-4cfb940b79fc"
      },
      "outputs": [
        {
          "output_type": "stream",
          "name": "stdout",
          "text": [
            " * sqlite:///my_data1.db\n",
            "Done.\n"
          ]
        },
        {
          "output_type": "execute_result",
          "data": {
            "text/plain": [
              "[('2018-01-08', 'Success (ground pad)'),\n",
              " ('2017-12-15', 'Success (ground pad)'),\n",
              " ('2017-09-07', 'Success (ground pad)'),\n",
              " ('2017-08-14', 'Success (ground pad)'),\n",
              " ('2017-06-03', 'Success (ground pad)'),\n",
              " ('2017-05-01', 'Success (ground pad)'),\n",
              " ('2017-02-19', 'Success (ground pad)'),\n",
              " ('2016-07-18', 'Success (ground pad)'),\n",
              " ('2016-06-15', 'Failure (drone ship)'),\n",
              " ('2016-03-04', 'Failure (drone ship)'),\n",
              " ('2016-01-17', 'Failure (drone ship)'),\n",
              " ('2015-12-22', 'Success (ground pad)'),\n",
              " ('2015-04-14', 'Failure (drone ship)'),\n",
              " ('2015-01-10', 'Failure (drone ship)')]"
            ],
            "text/html": [
              "<table>\n",
              "    <thead>\n",
              "        <tr>\n",
              "            <th>Date</th>\n",
              "            <th>Landing_Outcome</th>\n",
              "        </tr>\n",
              "    </thead>\n",
              "    <tbody>\n",
              "        <tr>\n",
              "            <td>2018-01-08</td>\n",
              "            <td>Success (ground pad)</td>\n",
              "        </tr>\n",
              "        <tr>\n",
              "            <td>2017-12-15</td>\n",
              "            <td>Success (ground pad)</td>\n",
              "        </tr>\n",
              "        <tr>\n",
              "            <td>2017-09-07</td>\n",
              "            <td>Success (ground pad)</td>\n",
              "        </tr>\n",
              "        <tr>\n",
              "            <td>2017-08-14</td>\n",
              "            <td>Success (ground pad)</td>\n",
              "        </tr>\n",
              "        <tr>\n",
              "            <td>2017-06-03</td>\n",
              "            <td>Success (ground pad)</td>\n",
              "        </tr>\n",
              "        <tr>\n",
              "            <td>2017-05-01</td>\n",
              "            <td>Success (ground pad)</td>\n",
              "        </tr>\n",
              "        <tr>\n",
              "            <td>2017-02-19</td>\n",
              "            <td>Success (ground pad)</td>\n",
              "        </tr>\n",
              "        <tr>\n",
              "            <td>2016-07-18</td>\n",
              "            <td>Success (ground pad)</td>\n",
              "        </tr>\n",
              "        <tr>\n",
              "            <td>2016-06-15</td>\n",
              "            <td>Failure (drone ship)</td>\n",
              "        </tr>\n",
              "        <tr>\n",
              "            <td>2016-03-04</td>\n",
              "            <td>Failure (drone ship)</td>\n",
              "        </tr>\n",
              "        <tr>\n",
              "            <td>2016-01-17</td>\n",
              "            <td>Failure (drone ship)</td>\n",
              "        </tr>\n",
              "        <tr>\n",
              "            <td>2015-12-22</td>\n",
              "            <td>Success (ground pad)</td>\n",
              "        </tr>\n",
              "        <tr>\n",
              "            <td>2015-04-14</td>\n",
              "            <td>Failure (drone ship)</td>\n",
              "        </tr>\n",
              "        <tr>\n",
              "            <td>2015-01-10</td>\n",
              "            <td>Failure (drone ship)</td>\n",
              "        </tr>\n",
              "    </tbody>\n",
              "</table>"
            ]
          },
          "metadata": {},
          "execution_count": 74
        }
      ],
      "source": [
        "%sql select date, Landing_Outcome from SPACEXTABLE where date >'2010-06-04' and date <'2017-03-20' and  Landing_Outcome='Failure (drone ship)' or Landing_Outcome='Success (ground pad)' order by date desc"
      ],
      "execution_count": 74
    },
    {
      "cell_type": "markdown",
      "metadata": {
        "id": "5200ad74-f84f-499a-8756-6e4673c6bbc7"
      },
      "source": [
        "### Reference Links\n",
        "\n",
        "* <a href =\"https://cf-courses-data.s3.us.cloud-object-storage.appdomain.cloud/IBMDeveloperSkillsNetwork-DB0201EN-SkillsNetwork/labs/Module%203/LAB-String_Patterns_Sorting_Grouping.md.html\">Hands-on Lab : String Patterns, Sorting and Grouping</a>  \n",
        "\n",
        "*  <a  href=\"https://cf-courses-data.s3.us.cloud-object-storage.appdomain.cloud/IBMDeveloperSkillsNetwork-DB0201EN-SkillsNetwork/labs/Labs_Coursera_V5/labs/Lab%20-%20Built-in%20functions%20/Hands-on_Lab__Built-in_Functions.md.html\">Hands-on Lab: Built-in functions</a>\n",
        "\n",
        "*  <a  href=\"https://cf-courses-data.s3.us.cloud-object-storage.appdomain.cloud/IBMDeveloperSkillsNetwork-DB0201EN-SkillsNetwork/labs/Labs_Coursera_V5/labs/Lab%20-%20Sub-queries%20and%20Nested%20SELECTs%20/instructional-labs.md.html\">Hands-on Lab : Sub-queries and Nested SELECT Statements</a>\n",
        "\n",
        "*   <a href=\"https://cf-courses-data.s3.us.cloud-object-storage.appdomain.cloud/IBMDeveloperSkillsNetwork-DB0201EN-SkillsNetwork/labs/Module%205/DB0201EN-Week3-1-3-SQLmagic.ipynb\">Hands-on Tutorial: Accessing Databases with SQL magic</a>\n",
        "\n",
        "*  <a href= \"https://cf-courses-data.s3.us.cloud-object-storage.appdomain.cloud/IBMDeveloperSkillsNetwork-DB0201EN-SkillsNetwork/labs/Module%205/DB0201EN-Week3-1-4-Analyzing.ipynb\">Hands-on Lab: Analyzing a real World Data Set</a>\n"
      ]
    },
    {
      "cell_type": "markdown",
      "metadata": {
        "id": "f5df3f99-f096-406e-8389-248494275ccd"
      },
      "source": [
        "## Author(s)\n",
        "\n",
        "<h4> Lakshmi Holla </h4>\n"
      ]
    },
    {
      "cell_type": "markdown",
      "metadata": {
        "id": "a71f1ae1-ea9c-4d6e-aa3c-f95afc63fa12"
      },
      "source": [
        "## Other Contributors\n",
        "\n",
        "<h4> Rav Ahuja </h4>\n"
      ]
    },
    {
      "cell_type": "markdown",
      "metadata": {
        "id": "bd17ff01-4f72-41e7-9c7d-1cfd6be79a64"
      },
      "source": [
        "## Change log\n",
        "| Date | Version | Changed by | Change Description |\n",
        "|------|--------|--------|---------|\n",
        "| 2021-07-09 | 0.2 |Lakshmi Holla | Changes made in magic sql|\n",
        "| 2021-05-20 | 0.1 |Lakshmi Holla | Created Initial Version |\n"
      ]
    },
    {
      "cell_type": "markdown",
      "metadata": {
        "id": "5e57c9c8-c6da-411e-a7a1-1148d8f8bb7d"
      },
      "source": [
        "## <h3 align=\"center\"> © IBM Corporation 2021. All rights reserved. <h3/>\n"
      ]
    }
  ],
  "metadata": {
    "kernelspec": {
      "display_name": "Python",
      "language": "python",
      "name": "conda-env-python-py"
    },
    "language_info": {
      "name": ""
    },
    "colab": {
      "provenance": []
    }
  },
  "nbformat": 4,
  "nbformat_minor": 0
}